{
 "cells": [
  {
   "cell_type": "markdown",
   "metadata": {},
   "source": [
    "# Análise Filogenética"
   ]
  },
  {
   "cell_type": "markdown",
   "metadata": {},
   "source": [
    "### NW"
   ]
  },
  {
   "cell_type": "code",
   "execution_count": 12,
   "metadata": {},
   "outputs": [],
   "source": [
    "def validar_prot(seq:str)->bool:\n",
    "    assert type(seq)==str,'A sequência não foi fornecida em formato de string'\n",
    "    lista_aminoacidos = ['A','C','D','E','F','G','H','I','K','L','M','N','P','Q','R','S','T','V','W','Y','_']\n",
    "    for aa in seq.upper():\n",
    "        if aa not in lista_aminoacidos:\n",
    "            return False\n",
    "    \n",
    "    return True\n",
    "\n",
    "def formatar(x):\n",
    "    if type(x) is int:\n",
    "        return f\"{x:>3d}\"\n",
    "    else:\n",
    "        return f\"{x:>3}\"\n",
    "    \n",
    "def print_matrix(S1,S2,M):\n",
    "    \n",
    "    print(*list(\" \" + S1), sep=\"   \")\n",
    "    for x2, L in zip(S2,M): #x2 caracter que vem da string S2\n",
    "        LL=[formatar(x) for x in L]\n",
    "        print(x2,*LL)\n",
    "    print()\n",
    "\n",
    "def score_sub_acid_nuc(x1:str,x2:str,match,mismatch)->int:\n",
    "    if x1==x2:return match\n",
    "    else: return mismatch\n",
    "\n",
    "def score_subst_prot(nome_matriz:str, aa1:str, aa2:str) -> int:\n",
    "    \"\"\"\n",
    "    Esta função abre e lê um destes ficheiros de texto: \"BLOSSOM62.txt\", \"BLOSSOM80.txt\", \"PAM30.txt\", \"PAM70.txt\" \n",
    "    retirando a matriz de substituição do ficheiro como uma matriz bidimensional.\n",
    "    Depois navega na matriz de substituição obtida e retorna o score correspondente ao ????alinhamento???? de dois dos seguintes caracteres: \n",
    "    'A','R','N','D','C','Q','E','G','H','I','L','K','M','F','P','S','T','W','Y','V','B','J','Z','X','_',\n",
    "    sendo que as letras representam os aminoácidos e o caracter '_' representa o codão stop.\n",
    "    \n",
    "    Parameters\n",
    "    ----------\n",
    "    nome_matriz:str\n",
    "        Nome da matriz de substituição que se pretende que seja lida e utilizada para fornecer os scores de substituição\n",
    "\n",
    "    aa1:str\n",
    "        Aminoácido que vai ser procurado ao longo da primeira coluna da matriz de substituição\n",
    "\n",
    "    aa2:str\n",
    "        Aminoácido que vai ser procurado ao longo da primeira linha da matriz de substituição\n",
    "\n",
    "    Returns\n",
    "    -------\n",
    "    score:int\n",
    "        Score obtido para o alinhamento dos dois aminoácidos na matriz de substituição\n",
    "\n",
    "    Raises\n",
    "    ------\n",
    "    AssertionError\n",
    "        Quando o nome da matriz fornecido não corresponde a uma das matrizes aceites pela função:\n",
    "        \"BLOSSOM62\", \"BLOSSOM80\", \"PAM30\", \"PAM70\"\n",
    "\n",
    "    AssertionError\n",
    "        Quando o caracter inserido correspondente ao 'aa1' não é válido como aminoácido ou codão stop\n",
    "\n",
    "    AssertionError\n",
    "        Quando o caracter inserido correspondente ao 'aa2' não é válido como aminoácido ou codão stop\n",
    "    \"\"\"\n",
    "    assert nome_matriz.upper() in [\"BLOSSOM62\", \"BLOSSOM80\", \"PAM30\", \"PAM70\"],\"A matriz de substituição escolhida é inválida, apenas aceita as matrizes 'BLOSSOM62', 'BLOSSOM80', 'PAM30', 'PAM70'\"\n",
    "    with open(nome_matriz.upper()+\".txt\", \"r\") as file:\n",
    "        matriz = []\n",
    "        for line in file:\n",
    "            line = line.strip()\n",
    "            linha = []\n",
    "            valor = \"\"\n",
    "            for elem in line:\n",
    "                if elem == \" \":\n",
    "                    if len(valor) != 0:\n",
    "                        linha.append(valor)\n",
    "                        valor = \"\"\n",
    "                else:\n",
    "                    valor += elem\n",
    "            linha.append(valor)\n",
    "            matriz.append(linha)\n",
    "    aa1, aa2 = aa1.upper(), aa2.upper()\n",
    "    lista_aminoacidos = ['A','R','N','D','C','Q','E','G','H','I','L','K','M','F','P','S','T','W','Y','V','B','J','Z','X','_']\n",
    "    assert aa1 in lista_aminoacidos,f\"O caracter {aa1} não é válido como aminoácido ou codão stop\"\n",
    "    assert aa2 in lista_aminoacidos,f\"O caracter {aa2} não é válido como aminoácido ou codão stop\"\n",
    "    coluna, linha = 0, 0\n",
    "    for i in range(1,len(matriz)):\n",
    "        if aa1 == matriz[i][0]:\n",
    "            linha = i\n",
    "            break\n",
    "    for pos, elem in enumerate(matriz[0]):\n",
    "        if elem == aa2:\n",
    "            coluna = pos\n",
    "            break\n",
    "    score = matriz[linha][coluna]\n",
    "    return int(score)\n",
    "\n",
    "def reconstrucao(seq1,seq2,trace):\n",
    "    aligned_seq1 = ''\n",
    "    aligned_seq2 = ''\n",
    "    linha=len(seq1)-1\n",
    "    coluna=len(seq2)-1\n",
    "\n",
    "    while trace[linha][coluna]!=0:\n",
    "        if trace[linha][coluna] == '↖':\n",
    "            aligned_seq1 = seq1[linha] + aligned_seq1\n",
    "            aligned_seq2 = seq2[coluna] + aligned_seq2\n",
    "            linha -= 1\n",
    "            coluna -= 1\n",
    "        elif trace[linha][coluna] == '↑':\n",
    "            aligned_seq1 = seq1[linha] + aligned_seq1\n",
    "            aligned_seq2 = '-' + aligned_seq2\n",
    "            linha -= 1\n",
    "        elif trace[linha][coluna] == '←':\n",
    "            aligned_seq1 = '-' + aligned_seq1\n",
    "            aligned_seq2 = seq2[coluna] + aligned_seq2\n",
    "            coluna-= 1\n",
    "    # print(aligned_seq1,aligned_seq2,sep='\\n')\n",
    "    return (aligned_seq1,aligned_seq2)\n",
    "\n",
    "def needleman_wunsch(seq1:str,seq2:str,seq_tipo:str,gap:int=-4,matriz:str='Blossom62',match:int=2,mismatch:int=-1,matrizes=True ):\n",
    "    \"\"\"\n",
    "    Realiza o alinhamento global de duas sequências recorrendo o algoritmo Needleman-Wunsch.\n",
    "\n",
    "    Parameters\n",
    "    ----------\n",
    "    seq1 : str\n",
    "      Primeira sequência\n",
    "    seq2 : str\n",
    "      Segunda sequência\n",
    "\n",
    "    seq_tipo: str\n",
    "        Identifica o tipo das sequências que se pretende alinhar\n",
    "\n",
    "    gap: int\n",
    "        Valor a utilizar para penalizar os espaçamentos. Por padrão considera-se o valor de penalização como -4\n",
    "\n",
    "    matriz: str\n",
    "        Matriz de substituição de aminoacidos a utilizar para realizar o alinhamento de proteínas\n",
    "\n",
    "    match: int\n",
    "        Valor a utilizar para quando as duas bases nucleicas são iguais. Por default é 2. Apenas para o alinhamento de DNA/RNA\n",
    "\n",
    "    mismatch: int\n",
    "        Valor a utilizar para quando as duas bases nucleicas são diferentes. Por default é -1. Apenas para o alinhamento de DNA/RNA\n",
    "\n",
    "    matrizes: bool\n",
    "        Indica \n",
    "\n",
    "    Returns\n",
    "    ----------\n",
    "    Tuple\n",
    "     devolve um tuplo com a matriz de pontuação, a matriz de rastreamento e o alinhamento ótimo\n",
    "    \n",
    "    \"\"\"\n",
    "    assert seq_tipo.upper() in ['DNA','RNA','PROTEIN'], 'O tipo de sequência fornecido não é valido, apenas pode assumir o valor de DNA, RNA ou protein'\n",
    "    \n",
    "    if seq_tipo.upper()=='DNA' or seq_tipo.upper()=='RNA':\n",
    "        assert seq_tipo in ['DNA','RNA'], 'A sequencia 1 não é um acido nucleico'\n",
    "        assert seq_tipo in ['DNA','RNA'], 'A sequencia 2 não é um acido nucleico'\n",
    "        assert seq_tipo==seq_tipo, 'As cadeias fornecidas não são do mesmo tipo'\n",
    "\n",
    "    else:\n",
    "        assert validar_prot(seq1), 'A sequencia 1 não é uma proteina'\n",
    "        assert validar_prot(seq2), 'A sequencia 2 não é uma proteina'\n",
    "\n",
    "    seq1='-'+seq1\n",
    "    seq2='-'+seq2\n",
    "    nrows = len(seq1)\n",
    "    ncols = len(seq2)\n",
    "\n",
    "    score_matrix=[[0]*ncols for linhas in range(nrows)] # iniciar a matriz score apenas com 0\n",
    "    score_matrix[0]=[c*gap for c in range(ncols)] #prenchimento da primeira linha da matriz score\n",
    "    for linha in range(1, nrows):score_matrix[linha][0] = linha * gap # preenchimento da primeira coluna da matriz score\n",
    "\n",
    "    traceback_matrix = [[0] * ncols for linhas in range(nrows)] # iniciar a matriz traceback com 0\n",
    "    traceback_matrix[0] =[0 if col==0 else '←' for col in range(ncols)] # prenchimento da primeira linha da matriz traceback\n",
    "    for linha in range(1,nrows): traceback_matrix[linha][0]='↑' # preenchimento da primeira coluna da matriz traceback\n",
    "\n",
    "    if seq_tipo.upper()=='DNA' or seq_tipo.upper()=='RNA': #alinhamento de acidos nucleicos\n",
    "      for linha in range(1, nrows):\n",
    "        for coluna in range(1, ncols):\n",
    "          diagonal = score_matrix[linha - 1][coluna - 1] + score_sub_acid_nuc(seq1[linha],seq2[coluna],match,mismatch)\n",
    "          cima = score_matrix[linha - 1][coluna] + gap\n",
    "          esquerda = score_matrix[linha][coluna - 1] + gap\n",
    "\n",
    "          max_score = max(diagonal, esquerda, cima)\n",
    "          score_matrix[linha][coluna] = max_score\n",
    "\n",
    "          if max_score == diagonal: traceback_matrix[linha][coluna] = '↖'\n",
    "          elif max_score == cima: traceback_matrix[linha][coluna] = '↑'\n",
    "          elif max_score == esquerda: traceback_matrix[linha][coluna] = '←'\n",
    "\n",
    "    else: # alinhamento de proteinas\n",
    "      for linha in range(1, nrows):\n",
    "        for coluna in range(1, ncols):\n",
    "          diagonal = score_matrix[linha - 1][coluna - 1] + score_subst_prot(matriz,seq1[linha],seq2[coluna])\n",
    "          cima = score_matrix[linha - 1][coluna] + gap\n",
    "          esquerda = score_matrix[linha][coluna - 1] + gap\n",
    "\n",
    "          max_score = max(diagonal, esquerda, cima)\n",
    "          score_matrix[linha][coluna] = max_score\n",
    "\n",
    "          if max_score == diagonal: traceback_matrix[linha][coluna] = '↖'\n",
    "          elif max_score == cima: traceback_matrix[linha][coluna] = '↑'\n",
    "          elif max_score == esquerda: traceback_matrix[linha][coluna] = '←'\n",
    "\n",
    "    if matrizes:\n",
    "        print(\"Matriz de Pontuação:\")\n",
    "        print_matrix(seq2,seq1,score_matrix)\n",
    "        print(\"Matriz de Rastreamento:\")\n",
    "        print_matrix(seq2,seq1,traceback_matrix)\n",
    "        return score_matrix[-1][-1],reconstrucao(seq1,seq2,traceback_matrix)\n",
    "    \n",
    "    else:\n",
    "        return score_matrix[-1][-1],reconstrucao(seq1,seq2,traceback_matrix)"
   ]
  },
  {
   "cell_type": "code",
   "execution_count": 13,
   "metadata": {},
   "outputs": [
    {
     "data": {
      "text/plain": [
       "(-5, ('ACTGG', 'A--GA'))"
      ]
     },
     "execution_count": 13,
     "metadata": {},
     "output_type": "execute_result"
    }
   ],
   "source": [
    "# exemplo de alinhamento de DNA\n",
    "needleman_wunsch(\"ACTGG\", \"AGA\", 'DNA', matrizes=False)"
   ]
  },
  {
   "cell_type": "markdown",
   "metadata": {},
   "source": [
    "### UPGMA"
   ]
  },
  {
   "cell_type": "markdown",
   "metadata": {},
   "source": [
    "1 Criar um cluster para cada sequência: L = {{si} : si ∈ S}\n",
    "\n",
    "2 Matriz de distâncias entre os clusters é inicializada com a matriz de\n",
    "distâncias entre as sequências\n",
    "\n",
    "3 Enquanto existir mais do que um cluster\n",
    "\n",
    "    1 Descobrir os clusters Ci e Ci com distância mínima entre eles\n",
    "    \n",
    "    2 Criar o cluster Ck = Ci ∪ Cj\n",
    "    \n",
    "    3 Adicionar o novo cluster a L e remover os anteriores:\n",
    "    L = {Ck } ∪ L \\ {Ci, Cj}\n",
    "    4 Remover linhas e colunas i e j da tabela de distâncias\n",
    "    \n",
    "    5 Introduzir linha e coluna para k com as distâncias para o novo cluster na\n",
    "    árvore, adicionar vértice ligando os nós referentes a Ci e Cj com valor de\n",
    "    altura igual a d_{ij} / 2\n"
   ]
  },
  {
   "cell_type": "markdown",
   "metadata": {},
   "source": [
    "- usar o NW para calcular os scores entre cada sequência\n",
    "- usar o inverso dos scores do NW para obter a distância entre as matrizes e construir a matriz de distâncias"
   ]
  },
  {
   "cell_type": "code",
   "execution_count": 32,
   "metadata": {},
   "outputs": [],
   "source": [
    "def criar_clusters(seqs:list[str]) -> list[{str}]:\n",
    "    clusters = [{seq} for seq in seqs]\n",
    "    return clusters"
   ]
  },
  {
   "cell_type": "code",
   "execution_count": 33,
   "metadata": {},
   "outputs": [
    {
     "data": {
      "text/plain": [
       "[{'ACT'}, {'ACG'}, {'ACA'}]"
      ]
     },
     "execution_count": 33,
     "metadata": {},
     "output_type": "execute_result"
    }
   ],
   "source": [
    "criar_clusters('ACT ACG ACA'.split())"
   ]
  },
  {
   "cell_type": "code",
   "execution_count": 23,
   "metadata": {},
   "outputs": [],
   "source": [
    "def calc_dist(seq1 : str, seq2 : str) -> int:\n",
    "    return -(needleman_wunsch(seq1, seq2, \"DNA\", matrizes=False)[0])"
   ]
  },
  {
   "cell_type": "code",
   "execution_count": 29,
   "metadata": {},
   "outputs": [
    {
     "data": {
      "text/plain": [
       "-3"
      ]
     },
     "execution_count": 29,
     "metadata": {},
     "output_type": "execute_result"
    }
   ],
   "source": [
    "calc_dist('ACT','ACG')"
   ]
  },
  {
   "cell_type": "code",
   "execution_count": null,
   "metadata": {},
   "outputs": [],
   "source": [
    "def mat_dist_seqs(seqs : list[str]) -> dict[list[{str}]:int]:\n",
    "    matriz = {}\n",
    "    pass"
   ]
  }
 ],
 "metadata": {
  "kernelspec": {
   "display_name": "base",
   "language": "python",
   "name": "python3"
  },
  "language_info": {
   "codemirror_mode": {
    "name": "ipython",
    "version": 3
   },
   "file_extension": ".py",
   "mimetype": "text/x-python",
   "name": "python",
   "nbconvert_exporter": "python",
   "pygments_lexer": "ipython3",
   "version": "3.9.13"
  }
 },
 "nbformat": 4,
 "nbformat_minor": 2
}
