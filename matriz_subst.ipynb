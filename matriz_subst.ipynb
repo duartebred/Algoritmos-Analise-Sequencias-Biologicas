{
 "cells": [
  {
   "cell_type": "markdown",
   "metadata": {},
   "source": [
    "\n",
    "fazer os asserts (falta confirmar se estão certos e se não falta nenhum)\n",
    "\n",
    "fazer a documentação (falta confirmar se está certa e se não falta nada)\n",
    "\n",
    "fazer os testes unitários\n",
    "\n",
    "ajustar perfis probabilisticos (e acrescentar pssm)"
   ]
  },
  {
   "cell_type": "code",
   "execution_count": 83,
   "metadata": {},
   "outputs": [],
   "source": [
    "def matriz_subst(nome_matriz:str) -> list[list[int]]:\n",
    "    \"\"\"\n",
    "    Esta função abre e lê um destes ficheiros de texto: \"BLOSSOM62.txt\", \"BLOSSOM80.txt\", \"PAM30.txt\", \"PAM70.txt\" \n",
    "    e devolve a matriz de substituição retirada do ficheiro como uma matriz bidimensional, capaz de ser utilizada pela função \"score_subst_prot\".\n",
    "    Esta função requer pelo menos um dos ficheiros \"BLOSSOM62.txt\", \"BLOSSOM80.txt\", \"PAM30.txt\", \"PAM70.txt\" na diretoria atual para funcionar.\n",
    "    \n",
    "    Parameters\n",
    "    ----------\n",
    "    nome_matriz:str\n",
    "        Nome da matriz de substituição que se pretende que seja lida por esta função\n",
    "\n",
    "    Returns\n",
    "    -------\n",
    "    matriz:list[list[int]]\n",
    "        Matriz de substituição carregada a partir de um ficheiro de texto\n",
    "\n",
    "    Raises\n",
    "    ------\n",
    "    AssertionError\n",
    "        Quando o nome da matriz fornecido não corresponde às matrizes aceites pela função,\n",
    "        sendo estas as seguintes: \"BLOSSOM62\", \"BLOSSOM80\", \"PAM30\", \"PAM70\"\n",
    "    \n",
    "    \"\"\"\n",
    "    assert nome_matriz.upper() in [\"BLOSSOM62\", \"BLOSSOM80\", \"PAM30\", \"PAM70\"],f\"A matriz de substituição escolhida é inválida, apenas aceita as matrizes 'BLOSSOM62', 'BLOSSOM80', 'PAM30', 'PAM70'\"\n",
    "    with open(nome_matriz.upper()+\".txt\", \"r\") as file:\n",
    "        matriz = []\n",
    "        for line in file:\n",
    "            line = line.strip()\n",
    "            linha = []\n",
    "            valor = \"\"\n",
    "            for elem in line:\n",
    "                if elem == \" \":\n",
    "                    if len(valor) != 0:\n",
    "                        linha.append(valor)\n",
    "                        valor = \"\"\n",
    "                else:\n",
    "                    valor += elem\n",
    "            linha.append(valor)\n",
    "            matriz.append(linha)\n",
    "    return matriz"
   ]
  },
  {
   "cell_type": "code",
   "execution_count": 79,
   "metadata": {},
   "outputs": [],
   "source": [
    "# matriz_subst(\"BLOSSOM62\")"
   ]
  },
  {
   "cell_type": "code",
   "execution_count": 80,
   "metadata": {},
   "outputs": [],
   "source": [
    "# for line in matriz_subst(\"BLOSSOM62\"):\n",
    "#     print(line,\",\", sep=\"\")"
   ]
  },
  {
   "cell_type": "code",
   "execution_count": 122,
   "metadata": {},
   "outputs": [],
   "source": [
    "def score_subst_prot(nome_matriz:str, aa1:str, aa2:str) -> int:\n",
    "    \"\"\"\n",
    "    Esta função navega na matriz de substituição obtida através da função \"matriz_subst\" \n",
    "    e retorna o score correspondente ao ????alinhamento???? de dois dos seguintes caracteres: \n",
    "    'A','R','N','D','C','Q','E','G','H','I','L','K','M','F','P','S','T','W','Y','V','B','J','Z','X','_',\n",
    "    sendo que as letras representam os aminoácidos e o caracter '_' representa o codão stop.\n",
    "    \n",
    "    Parameters\n",
    "    ----------\n",
    "    nome_matriz:str\n",
    "        Nome da matriz de substituição que se pretende que seja utilizada para fornecer os scores de substituição\n",
    "\n",
    "    aa1:str\n",
    "        Aminoácido cujo ????match???? vai ser procurado ao longo da primeira coluna\n",
    "\n",
    "    aa2:str\n",
    "        Aminoácido cujo ????match???? vai ser procurado ao longo da primeira linha\n",
    "\n",
    "    Returns\n",
    "    -------\n",
    "    score:int\n",
    "        Score obtido para o alinhamento dos dois aminoácidos na matriz de substituição\n",
    "\n",
    "    Raises\n",
    "    ------\n",
    "    AssertionError\n",
    "        Quando o caracter inserido correspondente ao 'aa1' não é válido como aminoácido ou codão stop\n",
    "\n",
    "    AssertionError\n",
    "        Quando o caracter inserido correspondente ao 'aa2' não é válido como aminoácido ou codão stop\n",
    "    \"\"\"\n",
    "    aa1, aa2 = aa1.upper(), aa2.upper()\n",
    "    lista_aminoacidos = ['A','R','N','D','C','Q','E','G','H','I','L','K','M','F','P','S','T','W','Y','V','B','J','Z','X','_']\n",
    "    assert aa1 in lista_aminoacidos,f\"O caracter {aa1} não é válido como aminoácido ou codão stop\"\n",
    "    assert aa2 in lista_aminoacidos,f\"O caracter {aa2} não é válido como aminoácido ou codão stop\"\n",
    "    matriz = matriz_subst(nome_matriz)\n",
    "    coluna = 0\n",
    "    linha = 0\n",
    "    for i in range(1,len(matriz)):\n",
    "        if aa1 == matriz[i][0]:\n",
    "            linha = i\n",
    "            break\n",
    "    for pos, elem in enumerate(matriz[0]):\n",
    "        if elem == aa2:\n",
    "            coluna = pos\n",
    "            break\n",
    "    score = matriz[linha][coluna]\n",
    "    return score"
   ]
  },
  {
   "cell_type": "code",
   "execution_count": null,
   "metadata": {},
   "outputs": [],
   "source": [
    "# score_subst_prot(\"BLOSSOM62\", \"A\", \"A\")"
   ]
  },
  {
   "cell_type": "code",
   "execution_count": 129,
   "metadata": {},
   "outputs": [],
   "source": [
    "def score_subst_prot(nome_matriz:str, aa1:str, aa2:str) -> int:\n",
    "    \"\"\"\n",
    "    Esta função abre e lê um destes ficheiros de texto: \"BLOSSOM62.txt\", \"BLOSSOM80.txt\", \"PAM30.txt\", \"PAM70.txt\" \n",
    "    retirando a matriz de substituição do ficheiro como uma matriz bidimensional.\n",
    "    Depois navega na matriz de substituição obtida e retorna o score correspondente ao ????alinhamento???? de dois dos seguintes caracteres: \n",
    "    'A','R','N','D','C','Q','E','G','H','I','L','K','M','F','P','S','T','W','Y','V','B','J','Z','X','_',\n",
    "    sendo que as letras representam os aminoácidos e o caracter '_' representa o codão stop.\n",
    "    \n",
    "    Parameters\n",
    "    ----------\n",
    "    nome_matriz:str\n",
    "        Nome da matriz de substituição que se pretende que seja lida e utilizada para fornecer os scores de substituição\n",
    "\n",
    "    aa1:str\n",
    "        Aminoácido cujo ????match???? vai ser procurado ao longo da primeira coluna da matriz de substituição\n",
    "\n",
    "    aa2:str\n",
    "        Aminoácido cujo ????match???? vai ser procurado ao longo da primeira linha da matriz de substituição\n",
    "\n",
    "    Returns\n",
    "    -------\n",
    "    score:int\n",
    "        Score obtido para o alinhamento dos dois aminoácidos na matriz de substituição\n",
    "\n",
    "    Raises\n",
    "    ------\n",
    "    AssertionError\n",
    "        Quando o nome da matriz fornecido não corresponde a uma das matrizes aceites pela função:\n",
    "        \"BLOSSOM62\", \"BLOSSOM80\", \"PAM30\", \"PAM70\"\n",
    "\n",
    "    AssertionError\n",
    "        Quando o caracter inserido correspondente ao 'aa1' não é válido como aminoácido ou codão stop\n",
    "\n",
    "    AssertionError\n",
    "        Quando o caracter inserido correspondente ao 'aa2' não é válido como aminoácido ou codão stop\n",
    "    \"\"\"\n",
    "    assert nome_matriz.upper() in [\"BLOSSOM62\", \"BLOSSOM80\", \"PAM30\", \"PAM70\"],f\"A matriz de substituição escolhida é inválida, apenas aceita as matrizes 'BLOSSOM62', 'BLOSSOM80', 'PAM30', 'PAM70'\"\n",
    "    with open(nome_matriz.upper()+\".txt\", \"r\") as file:\n",
    "        matriz = []\n",
    "        for line in file:\n",
    "            line = line.strip()\n",
    "            linha = []\n",
    "            valor = \"\"\n",
    "            for elem in line:\n",
    "                if elem == \" \":\n",
    "                    if len(valor) != 0:\n",
    "                        linha.append(valor)\n",
    "                        valor = \"\"\n",
    "                else:\n",
    "                    valor += elem\n",
    "            linha.append(valor)\n",
    "            matriz.append(linha)\n",
    "    aa1, aa2 = aa1.upper(), aa2.upper()\n",
    "    lista_aminoacidos = ['A','R','N','D','C','Q','E','G','H','I','L','K','M','F','P','S','T','W','Y','V','B','J','Z','X','_']\n",
    "    assert aa1 in lista_aminoacidos,f\"O caracter {aa1} não é válido como aminoácido ou codão stop\"\n",
    "    assert aa2 in lista_aminoacidos,f\"O caracter {aa2} não é válido como aminoácido ou codão stop\"\n",
    "    coluna, linha = 0, 0\n",
    "    for i in range(1,len(matriz)):\n",
    "        if aa1 == matriz[i][0]:\n",
    "            linha = i\n",
    "            break\n",
    "    for pos, elem in enumerate(matriz[0]):\n",
    "        if elem == aa2:\n",
    "            coluna = pos\n",
    "            break\n",
    "    score = matriz[linha][coluna]\n",
    "    return score"
   ]
  },
  {
   "cell_type": "code",
   "execution_count": 134,
   "metadata": {},
   "outputs": [
    {
     "data": {
      "text/plain": [
       "'4'"
      ]
     },
     "execution_count": 134,
     "metadata": {},
     "output_type": "execute_result"
    }
   ],
   "source": [
    "score_subst_prot(\"BLOSSOM62\", \"A\", \"A\")"
   ]
  },
  {
   "cell_type": "markdown",
   "metadata": {},
   "source": [
    "### Testes de unidade"
   ]
  },
  {
   "cell_type": "code",
   "execution_count": null,
   "metadata": {},
   "outputs": [],
   "source": [
    "import unittest\n",
    "\n",
    "class Test_matrizes_subst(unittest.TestCase):\n",
    "    def test_matriz_subst_blossom62(self):\n",
    "        \n",
    "\n",
    "\n",
    "\n",
    "\n",
    "\n",
    "\n",
    "\n",
    "unittest.main(argv=[''], verbosity=2, exit=False)"
   ]
  }
 ],
 "metadata": {
  "kernelspec": {
   "display_name": "base",
   "language": "python",
   "name": "python3"
  },
  "language_info": {
   "codemirror_mode": {
    "name": "ipython",
    "version": 3
   },
   "file_extension": ".py",
   "mimetype": "text/x-python",
   "name": "python",
   "nbconvert_exporter": "python",
   "pygments_lexer": "ipython3",
   "version": "3.9.13"
  }
 },
 "nbformat": 4,
 "nbformat_minor": 2
}
